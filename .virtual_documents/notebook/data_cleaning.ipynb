import os
import numpy as np
import pandas as pd
from sklearn.model_selection import train_test_split



project_dir=r"C:\Users\pcraj\OneDrive\Desktop\projects\flight-price-predictor"


data_dir=r"data"


def get_data(name):
    file_name=f"{name}.csv"
    file_path=os.path.join(project_dir,data_dir,file_name)
    return file_path


flight=get_data("flight_price")


flight



