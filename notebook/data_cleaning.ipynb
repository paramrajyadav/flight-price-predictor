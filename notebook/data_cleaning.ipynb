{
 "cells": [
  {
   "cell_type": "code",
   "execution_count": null,
   "id": "19f2c20e-08e5-4fbc-a209-fa3e96c76895",
   "metadata": {},
   "outputs": [],
   "source": [
    "import os\n",
    "import numpy as np\n",
    "import pandas as pd\n",
    "from sklearn.model_selection import train_test_split\n"
   ]
  },
  {
   "cell_type": "code",
   "execution_count": null,
   "id": "b50e4ef6-3d90-4ac2-9cf8-7f0fa75d72de",
   "metadata": {},
   "outputs": [],
   "source": [
    "project_dir=r\"C:\\Users\\pcraj\\OneDrive\\Desktop\\projects\\flight-price-predictor\""
   ]
  },
  {
   "cell_type": "code",
   "execution_count": null,
   "id": "46ac9d16-36a7-4ec2-890c-13b78e43f73f",
   "metadata": {},
   "outputs": [],
   "source": [
    "data_dir=r\"data\""
   ]
  },
  {
   "cell_type": "code",
   "execution_count": null,
   "id": "8dd1c72d-626c-46c0-9d01-2a19efafa34f",
   "metadata": {},
   "outputs": [],
   "source": [
    "def get_data(name):\n",
    "    file_name=f\"{name}.csv\"\n",
    "    file_path=os.path.join(project_dir,data_dir,file_name)\n",
    "    return pd.read_csv(file_path)"
   ]
  },
  {
   "cell_type": "code",
   "execution_count": null,
   "id": "ee9d0200-0ad9-4c55-aa06-de19cc80d02c",
   "metadata": {},
   "outputs": [],
   "source": [
    "flight=get_data(\"flight_price\")"
   ]
  },
  {
   "cell_type": "code",
   "execution_count": null,
   "id": "f327cb87-1675-4a4d-89e2-49961686dee2",
   "metadata": {},
   "outputs": [],
   "source": [
    "flight"
   ]
  },
  {
   "cell_type": "code",
   "execution_count": null,
   "id": "d40d848e-7f5d-4f75-8cba-779f40e5f77f",
   "metadata": {},
   "outputs": [],
   "source": [
    "flight.info()"
   ]
  },
  {
   "cell_type": "code",
   "execution_count": null,
   "id": "058ad4ae-3af5-42e3-9885-80b06bb1a992",
   "metadata": {},
   "outputs": [],
   "source": [
    "flight.isna().sum()"
   ]
  },
  {
   "cell_type": "code",
   "execution_count": null,
   "id": "a2a513a1-2e95-4ab8-addd-74c9cd6f432a",
   "metadata": {},
   "outputs": [],
   "source": [
    "flight.dtypes"
   ]
  },
  {
   "cell_type": "code",
   "execution_count": null,
   "id": "6e7ed101-f2c1-4b9f-bc04-9a8bac82d133",
   "metadata": {},
   "outputs": [],
   "source": [
    "flight.head()"
   ]
  },
  {
   "cell_type": "code",
   "execution_count": null,
   "id": "39698d35-b0ef-4828-8f69-1587f9878071",
   "metadata": {},
   "outputs": [],
   "source": [
    "import pandas as pd\n",
    "\n",
    "def clean_data(df):\n",
    "    return (\n",
    "        df.rename(columns=str.lower)\n",
    "        .assign(**{\n",
    "            col: df[col].str.strip()\n",
    "            for col in df.select_dtypes(include=\"O\").columns\n",
    "        })\n",
    "        .assign(\n",
    "            airline=lambda df_: (df_['airline'].str.replace(\" Premium Economy\", \"\")\n",
    "                                 .str.replace(\" Business\", \"\").str.title()),\n",
    "            date_of_journey=lambda df_: pd.to_datetime(df_['date_of_journey'], dayfirst=True)\n",
    "        ).drop(columns=\"route\")\n",
    "    )\n"
   ]
  },
  {
   "cell_type": "code",
   "execution_count": null,
   "id": "25f16880-9e50-47b7-aa58-d32cd5791bfa",
   "metadata": {
    "scrolled": true
   },
   "outputs": [],
   "source": [
    "clean_data(flight)"
   ]
  },
  {
   "cell_type": "code",
   "execution_count": null,
   "id": "229c2792-c6a9-4da3-95fc-7e3f27ef144f",
   "metadata": {},
   "outputs": [],
   "source": [
    "flight.Airline"
   ]
  },
  {
   "cell_type": "code",
   "execution_count": null,
   "id": "8dd7e276-b6ae-4b61-b4de-09bf690b13c9",
   "metadata": {},
   "outputs": [],
   "source": [
    "flight.Airline.unique()"
   ]
  },
  {
   "cell_type": "code",
   "execution_count": null,
   "id": "d8f77d5a-066c-4c1e-be4e-95e812f33e15",
   "metadata": {},
   "outputs": [],
   "source": [
    "(flight.Airline.str.replace(\" Premium Economy\",\"\").str.replace(\" Business\",\"\").str.title)"
   ]
  },
  {
   "cell_type": "code",
   "execution_count": null,
   "id": "5eb9a555-2e38-44c7-a176-679b7ad30da3",
   "metadata": {},
   "outputs": [],
   "source": [
    "flight.Date_of_Journey"
   ]
  },
  {
   "cell_type": "code",
   "execution_count": null,
   "id": "0989291a-b202-4352-9af7-d1d2222ef877",
   "metadata": {},
   "outputs": [],
   "source": [
    "pd.to_datetime(flight.Date_of_Journey,dayfirst=True)"
   ]
  },
  {
   "cell_type": "code",
   "execution_count": null,
   "id": "a980877c-b4ef-4cb4-b229-ec694303e638",
   "metadata": {},
   "outputs": [],
   "source": [
    "data_types = clean_data(flight).dtypes\n",
    "print(data_types)"
   ]
  },
  {
   "cell_type": "code",
   "execution_count": null,
   "id": "8b816da4-993e-47b3-80fc-113deabd7712",
   "metadata": {},
   "outputs": [],
   "source": [
    "flight.Source.unique()"
   ]
  },
  {
   "cell_type": "code",
   "execution_count": null,
   "id": "63d3b8d1-c4ab-4add-82a1-1d78241813bb",
   "metadata": {},
   "outputs": [],
   "source": [
    "flight.Dep_Time"
   ]
  },
  {
   "cell_type": "code",
   "execution_count": 51,
   "id": "231d877b-af07-4f52-a04d-9ddb158c9638",
   "metadata": {},
   "outputs": [
    {
     "data": {
      "text/plain": [
       "Series([], Name: Dep_Time, dtype: object)"
      ]
     },
     "execution_count": 51,
     "metadata": {},
     "output_type": "execute_result"
    }
   ],
   "source": [
    "(\n",
    "    flight.Dep_Time.loc[lambda ser : ser.str.contains(\"[^0-9:]\")]\n",
    ")"
   ]
  },
  {
   "cell_type": "code",
   "execution_count": null,
   "id": "362fda7b-f2b9-4a5c-b504-f20484933b05",
   "metadata": {},
   "outputs": [],
   "source": []
  }
 ],
 "metadata": {
  "kernelspec": {
   "display_name": "Python 3 (ipykernel)",
   "language": "python",
   "name": "python3"
  },
  "language_info": {
   "codemirror_mode": {
    "name": "ipython",
    "version": 3
   },
   "file_extension": ".py",
   "mimetype": "text/x-python",
   "name": "python",
   "nbconvert_exporter": "python",
   "pygments_lexer": "ipython3",
   "version": "3.11.7"
  }
 },
 "nbformat": 4,
 "nbformat_minor": 5
}
